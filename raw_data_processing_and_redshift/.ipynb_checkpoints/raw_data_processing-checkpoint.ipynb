{
 "cells": [
  {
   "cell_type": "code",
   "execution_count": 12,
   "metadata": {
    "collapsed": true
   },
   "outputs": [],
   "source": [
    "import os\n",
    "from datetime import datetime, timezone\n",
    "import pandas as pd\n",
    "import numpy as np"
   ]
  },
  {
   "cell_type": "code",
   "execution_count": 13,
   "metadata": {
    "collapsed": true
   },
   "outputs": [],
   "source": [
    "#os.chdir('/Users/vikdad/Documents/GitHub/slac-capstone/raw_data/')\n",
    "os.chdir('/Users/vikdad/Documents/Personal Stuff/uc_berkeley/slac/raw_pjtn_li22_31/')\n",
    "path = os.getcwd() #get working directory"
   ]
  },
  {
   "cell_type": "code",
   "execution_count": 14,
   "metadata": {
    "collapsed": true
   },
   "outputs": [],
   "source": [
    "def processKlysData(data):\n",
    "    \n",
    "    #This function processes raw data per klystron from epics network\n",
    "    \n",
    "    #Extract the column labels from the data\n",
    "    column_labels = data[data.iloc[:,0].str.contains('labels')]\n",
    "    column_labels = column_labels.iloc[0].str.rpartition('[').iloc[0,2]\n",
    "    column_labels = column_labels.replace(']', '')\n",
    "    column_labels = column_labels.split(',')\n",
    "    \n",
    "    #drop the column row\n",
    "    new_data = data[data.iloc[:,0].str.contains('labels') == False]\n",
    "    \n",
    "    #extract each column\n",
    "    data_list = []\n",
    "    for i in column_labels:\n",
    "        target_data = new_data[new_data.iloc[:,0].str.contains(i)]\n",
    "        target_data = target_data.iloc[0].str.rpartition('[').iloc[0,2]\n",
    "        target_data = target_data.replace(']', '')\n",
    "        target_data = target_data.split(',')\n",
    "        data_list.append(target_data)\n",
    "    \n",
    "    #convert from list -> data frame\n",
    "    data_list = np.column_stack(data_list)\n",
    "    final = pd.DataFrame(data_list, columns = column_labels)\n",
    "        \n",
    "    return(final)"
   ]
  },
  {
   "cell_type": "code",
   "execution_count": 15,
   "metadata": {
    "collapsed": true
   },
   "outputs": [],
   "source": [
    "def processEpoch(data):\n",
    "    \n",
    "    #Convert timestamp to \n",
    "\n",
    "    \n",
    "    epoch_time = pd.to_numeric(data['secondsPastEpoch'])\n",
    "    date_time = epoch_time.astype(\"datetime64[s]\")\n",
    "    final = pd.concat([data, epoch_time.astype(\"datetime64[s]\")], axis=1)\n",
    "    final.columns.values[5] = 'timestamp'\n",
    "\n",
    "    return(final)"
   ]
  },
  {
   "cell_type": "code",
   "execution_count": 16,
   "metadata": {
    "collapsed": true
   },
   "outputs": [],
   "source": [
    "folder_names = os.listdir()\n",
    "folder_names.remove('.DS_Store')"
   ]
  },
  {
   "cell_type": "code",
   "execution_count": 17,
   "metadata": {},
   "outputs": [
    {
     "name": "stdout",
     "output_type": "stream",
     "text": [
      "li22_31_pjtn\n",
      "li2231pjtn16.dat\n",
      "li2231pjtn17.dat\n",
      "li2231pjtn15.dat\n"
     ]
    }
   ],
   "source": [
    "for i in folder_names:\n",
    "    file_names = [] #empty array for filenames\n",
    "    data_list = [] #empty list for data storage\n",
    "    \n",
    "    print(i)\n",
    "    #folder name processing\n",
    "    folder_split = i.split(\"_\")\n",
    "    klystron = folder_split[0] + '_' + folder_split[1]\n",
    "\n",
    "    #append all file names within folders into list\n",
    "    for (dirpath, dirnames, filenames) in os.walk(path + '/' + i + '/'):\n",
    "        file_names.extend(filenames)\n",
    "        break\n",
    "    \n",
    "    #read + process in data\n",
    "    for j in file_names:\n",
    "        print(j)\n",
    "        raw_data = pd.read_table(path + '/' + i + '/' + j)\n",
    "        clean_data = processKlysData(raw_data) #turn it into data frame\n",
    "        clean_data = processEpoch(clean_data) #process timestamp\n",
    "        \n",
    "        #add klystron value\n",
    "        clean_data = pd.concat([clean_data, \n",
    "                                pd.Series(np.repeat(klystron, len(clean_data)))], axis=1)\n",
    "        clean_data.columns.values[6] = 'klystron'\n",
    "        \n",
    "        data_list.append(clean_data) #return data\n",
    "    \n",
    "    final_data = pd.concat(data_list, axis=0)\n",
    "    \n",
    "\n",
    "    final_data.to_csv('/Users/vikdad/Documents/Personal Stuff/uc_berkeley/slac/processed_pv_cater_03_03_2018/' + \n",
    "                      i, index=False)"
   ]
  },
  {
   "cell_type": "code",
   "execution_count": 18,
   "metadata": {
    "collapsed": true
   },
   "outputs": [],
   "source": [
    "#raw_pjtn data processing\n",
    "\n",
    "file_names = [] #empty array for filenames\n",
    "data_list = [] #empty list for data storage\n",
    "\n",
    "#append all file names within folders into list\n",
    "for (dirpath, dirnames, filenames) in os.walk(path):\n",
    "    file_names.extend(filenames)\n",
    "    break\n",
    "\n",
    "file_names.remove('.DS_Store')\n",
    "    \n",
    "#read + process in data\n",
    "for i in file_names:\n",
    "    print(i)\n",
    "    folder_split = i.split(\"_\")\n",
    "    klystron = folder_split[0] + '_' + folder_split[1]\n",
    "    raw_data = pd.read_table(path + '/' + i)\n",
    "    print(raw_data.head())\n",
    "    clean_data = processKlysData(raw_data) #turn it into data frame\n",
    "    clean_data = processEpoch(clean_data) #process timestamp\n",
    "        \n",
    "    #add klystron value\n",
    "    clean_data = pd.concat([clean_data, \n",
    "                            pd.Series(np.repeat(klystron, len(clean_data)))], axis=1)\n",
    "    clean_data.columns.values[6] = 'klystron'        \n",
    "    data_list.append(clean_data) #return data    \n",
    "    final_data = pd.concat(data_list, axis=0)"
   ]
  },
  {
   "cell_type": "code",
   "execution_count": 17,
   "metadata": {
    "collapsed": true
   },
   "outputs": [],
   "source": [
    "final_data.to_csv('/Users/vikdad/Documents/Personal Stuff/uc_berkeley/slac/processed_data/processed_pjtn_li22_31', index=False)"
   ]
  },
  {
   "cell_type": "code",
   "execution_count": 18,
   "metadata": {},
   "outputs": [
    {
     "data": {
      "text/html": [
       "<div>\n",
       "<style>\n",
       "    .dataframe thead tr:only-child th {\n",
       "        text-align: right;\n",
       "    }\n",
       "\n",
       "    .dataframe thead th {\n",
       "        text-align: left;\n",
       "    }\n",
       "\n",
       "    .dataframe tbody tr th {\n",
       "        vertical-align: top;\n",
       "    }\n",
       "</style>\n",
       "<table border=\"1\" class=\"dataframe\">\n",
       "  <thead>\n",
       "    <tr style=\"text-align: right;\">\n",
       "      <th></th>\n",
       "      <th>secondsPastEpoch</th>\n",
       "      <th>values</th>\n",
       "      <th>nanoseconds</th>\n",
       "      <th>severity</th>\n",
       "      <th>status</th>\n",
       "      <th>timestamp</th>\n",
       "      <th>klystron</th>\n",
       "    </tr>\n",
       "  </thead>\n",
       "  <tbody>\n",
       "    <tr>\n",
       "      <th>0</th>\n",
       "      <td>1443682796</td>\n",
       "      <td>0.0761155</td>\n",
       "      <td>819725727</td>\n",
       "      <td>0</td>\n",
       "      <td>0</td>\n",
       "      <td>2015-10-01 06:59:56</td>\n",
       "      <td>li23_11</td>\n",
       "    </tr>\n",
       "    <tr>\n",
       "      <th>1</th>\n",
       "      <td>1443682801</td>\n",
       "      <td>0.0621481</td>\n",
       "      <td>819561911</td>\n",
       "      <td>0</td>\n",
       "      <td>0</td>\n",
       "      <td>2015-10-01 07:00:01</td>\n",
       "      <td>li23_11</td>\n",
       "    </tr>\n",
       "    <tr>\n",
       "      <th>2</th>\n",
       "      <td>1443682806</td>\n",
       "      <td>0.0761155</td>\n",
       "      <td>819933402</td>\n",
       "      <td>0</td>\n",
       "      <td>0</td>\n",
       "      <td>2015-10-01 07:00:06</td>\n",
       "      <td>li23_11</td>\n",
       "    </tr>\n",
       "    <tr>\n",
       "      <th>3</th>\n",
       "      <td>1443682811</td>\n",
       "      <td>0.0621481</td>\n",
       "      <td>817588174</td>\n",
       "      <td>0</td>\n",
       "      <td>0</td>\n",
       "      <td>2015-10-01 07:00:11</td>\n",
       "      <td>li23_11</td>\n",
       "    </tr>\n",
       "    <tr>\n",
       "      <th>4</th>\n",
       "      <td>1443682826</td>\n",
       "      <td>0.0761155</td>\n",
       "      <td>814971440</td>\n",
       "      <td>0</td>\n",
       "      <td>0</td>\n",
       "      <td>2015-10-01 07:00:26</td>\n",
       "      <td>li23_11</td>\n",
       "    </tr>\n",
       "  </tbody>\n",
       "</table>\n",
       "</div>"
      ],
      "text/plain": [
       "  secondsPastEpoch     values nanoseconds severity status           timestamp  \\\n",
       "0       1443682796  0.0761155   819725727        0      0 2015-10-01 06:59:56   \n",
       "1       1443682801  0.0621481   819561911        0      0 2015-10-01 07:00:01   \n",
       "2       1443682806  0.0761155   819933402        0      0 2015-10-01 07:00:06   \n",
       "3       1443682811  0.0621481   817588174        0      0 2015-10-01 07:00:11   \n",
       "4       1443682826  0.0761155   814971440        0      0 2015-10-01 07:00:26   \n",
       "\n",
       "  klystron  \n",
       "0  li23_11  \n",
       "1  li23_11  \n",
       "2  li23_11  \n",
       "3  li23_11  \n",
       "4  li23_11  "
      ]
     },
     "execution_count": 18,
     "metadata": {},
     "output_type": "execute_result"
    }
   ],
   "source": [
    "final_data.head()"
   ]
  },
  {
   "cell_type": "code",
   "execution_count": null,
   "metadata": {
    "collapsed": true
   },
   "outputs": [],
   "source": []
  }
 ],
 "metadata": {
  "kernelspec": {
   "display_name": "Python 3",
   "language": "python",
   "name": "python3"
  },
  "language_info": {
   "codemirror_mode": {
    "name": "ipython",
    "version": 3
   },
   "file_extension": ".py",
   "mimetype": "text/x-python",
   "name": "python",
   "nbconvert_exporter": "python",
   "pygments_lexer": "ipython3",
   "version": "3.6.1"
  }
 },
 "nbformat": 4,
 "nbformat_minor": 2
}
